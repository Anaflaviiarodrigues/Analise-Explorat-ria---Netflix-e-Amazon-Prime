{
 "cells": [
  {
   "cell_type": "markdown",
   "metadata": {},
   "source": [
    "<img src='netflix_amazon.jpg'/>\n"
   ]
  },
  {
   "cell_type": "markdown",
   "metadata": {},
   "source": [
    "# Introdução\n",
    "Vamos analisar os dados de duas grandes plataformas de streaming: Netflix e Amazon Prime e tirar alguns insights a cerca disso.\n"
   ]
  },
  {
   "cell_type": "raw",
   "metadata": {},
   "source": [
    "Sobre as bases de dados:\n",
    "1 show_id - Unique ID for every Movie / Tv Show \n",
    "2 type - Identifier - A Movie or TV Show\n",
    "3 title - Title of the Movie / Tv Show\n",
    "4 director - Director of the Movie\n",
    "5 cast - Actors involved in the movie / show\n",
    "6 country - Country where the movie / show was produced\n",
    "7 data_added - Date it was added on Netflix or Amazon Prime \n",
    "8 release_year - Actual Release year of the move / show\n",
    "9 rating - TV Rating of the movie / show \n",
    "10 duration - Total Duration - in minutes or number of seasons\n"
   ]
  },
  {
   "cell_type": "markdown",
   "metadata": {},
   "source": [
    "# Analisando os dados"
   ]
  },
  {
   "cell_type": "code",
   "execution_count": 213,
   "metadata": {},
   "outputs": [],
   "source": [
    "#Importando as bibliotecas\n",
    "import pandas as pd \n",
    "import matplotlib.pyplot as plt \n",
    "import seaborn as sns \n",
    "import datetime\n",
    "from itertools import chain\n"
   ]
  },
  {
   "cell_type": "code",
   "execution_count": 214,
   "metadata": {},
   "outputs": [
    {
     "data": {
      "text/html": [
       "<div>\n",
       "<style scoped>\n",
       "    .dataframe tbody tr th:only-of-type {\n",
       "        vertical-align: middle;\n",
       "    }\n",
       "\n",
       "    .dataframe tbody tr th {\n",
       "        vertical-align: top;\n",
       "    }\n",
       "\n",
       "    .dataframe thead th {\n",
       "        text-align: right;\n",
       "    }\n",
       "</style>\n",
       "<table border=\"1\" class=\"dataframe\">\n",
       "  <thead>\n",
       "    <tr style=\"text-align: right;\">\n",
       "      <th></th>\n",
       "      <th>show_id</th>\n",
       "      <th>type</th>\n",
       "      <th>title</th>\n",
       "      <th>director</th>\n",
       "      <th>cast</th>\n",
       "      <th>country</th>\n",
       "      <th>date_added</th>\n",
       "      <th>release_year</th>\n",
       "      <th>rating</th>\n",
       "      <th>duration</th>\n",
       "      <th>listed_in</th>\n",
       "      <th>description</th>\n",
       "    </tr>\n",
       "  </thead>\n",
       "  <tbody>\n",
       "    <tr>\n",
       "      <th>0</th>\n",
       "      <td>s1</td>\n",
       "      <td>Movie</td>\n",
       "      <td>Dick Johnson Is Dead</td>\n",
       "      <td>Kirsten Johnson</td>\n",
       "      <td>NaN</td>\n",
       "      <td>United States</td>\n",
       "      <td>September 25, 2021</td>\n",
       "      <td>2020</td>\n",
       "      <td>PG-13</td>\n",
       "      <td>90 min</td>\n",
       "      <td>Documentaries</td>\n",
       "      <td>As her father nears the end of his life, filmm...</td>\n",
       "    </tr>\n",
       "    <tr>\n",
       "      <th>1</th>\n",
       "      <td>s2</td>\n",
       "      <td>TV Show</td>\n",
       "      <td>Blood &amp; Water</td>\n",
       "      <td>NaN</td>\n",
       "      <td>Ama Qamata, Khosi Ngema, Gail Mabalane, Thaban...</td>\n",
       "      <td>South Africa</td>\n",
       "      <td>September 24, 2021</td>\n",
       "      <td>2021</td>\n",
       "      <td>TV-MA</td>\n",
       "      <td>2 Seasons</td>\n",
       "      <td>International TV Shows, TV Dramas, TV Mysteries</td>\n",
       "      <td>After crossing paths at a party, a Cape Town t...</td>\n",
       "    </tr>\n",
       "    <tr>\n",
       "      <th>2</th>\n",
       "      <td>s3</td>\n",
       "      <td>TV Show</td>\n",
       "      <td>Ganglands</td>\n",
       "      <td>Julien Leclercq</td>\n",
       "      <td>Sami Bouajila, Tracy Gotoas, Samuel Jouy, Nabi...</td>\n",
       "      <td>NaN</td>\n",
       "      <td>September 24, 2021</td>\n",
       "      <td>2021</td>\n",
       "      <td>TV-MA</td>\n",
       "      <td>1 Season</td>\n",
       "      <td>Crime TV Shows, International TV Shows, TV Act...</td>\n",
       "      <td>To protect his family from a powerful drug lor...</td>\n",
       "    </tr>\n",
       "    <tr>\n",
       "      <th>3</th>\n",
       "      <td>s4</td>\n",
       "      <td>TV Show</td>\n",
       "      <td>Jailbirds New Orleans</td>\n",
       "      <td>NaN</td>\n",
       "      <td>NaN</td>\n",
       "      <td>NaN</td>\n",
       "      <td>September 24, 2021</td>\n",
       "      <td>2021</td>\n",
       "      <td>TV-MA</td>\n",
       "      <td>1 Season</td>\n",
       "      <td>Docuseries, Reality TV</td>\n",
       "      <td>Feuds, flirtations and toilet talk go down amo...</td>\n",
       "    </tr>\n",
       "    <tr>\n",
       "      <th>4</th>\n",
       "      <td>s5</td>\n",
       "      <td>TV Show</td>\n",
       "      <td>Kota Factory</td>\n",
       "      <td>NaN</td>\n",
       "      <td>Mayur More, Jitendra Kumar, Ranjan Raj, Alam K...</td>\n",
       "      <td>India</td>\n",
       "      <td>September 24, 2021</td>\n",
       "      <td>2021</td>\n",
       "      <td>TV-MA</td>\n",
       "      <td>2 Seasons</td>\n",
       "      <td>International TV Shows, Romantic TV Shows, TV ...</td>\n",
       "      <td>In a city of coaching centers known to train I...</td>\n",
       "    </tr>\n",
       "  </tbody>\n",
       "</table>\n",
       "</div>"
      ],
      "text/plain": [
       "  show_id     type                  title         director  \\\n",
       "0      s1    Movie   Dick Johnson Is Dead  Kirsten Johnson   \n",
       "1      s2  TV Show          Blood & Water              NaN   \n",
       "2      s3  TV Show              Ganglands  Julien Leclercq   \n",
       "3      s4  TV Show  Jailbirds New Orleans              NaN   \n",
       "4      s5  TV Show           Kota Factory              NaN   \n",
       "\n",
       "                                                cast        country  \\\n",
       "0                                                NaN  United States   \n",
       "1  Ama Qamata, Khosi Ngema, Gail Mabalane, Thaban...   South Africa   \n",
       "2  Sami Bouajila, Tracy Gotoas, Samuel Jouy, Nabi...            NaN   \n",
       "3                                                NaN            NaN   \n",
       "4  Mayur More, Jitendra Kumar, Ranjan Raj, Alam K...          India   \n",
       "\n",
       "           date_added  release_year rating   duration  \\\n",
       "0  September 25, 2021          2020  PG-13     90 min   \n",
       "1  September 24, 2021          2021  TV-MA  2 Seasons   \n",
       "2  September 24, 2021          2021  TV-MA   1 Season   \n",
       "3  September 24, 2021          2021  TV-MA   1 Season   \n",
       "4  September 24, 2021          2021  TV-MA  2 Seasons   \n",
       "\n",
       "                                           listed_in  \\\n",
       "0                                      Documentaries   \n",
       "1    International TV Shows, TV Dramas, TV Mysteries   \n",
       "2  Crime TV Shows, International TV Shows, TV Act...   \n",
       "3                             Docuseries, Reality TV   \n",
       "4  International TV Shows, Romantic TV Shows, TV ...   \n",
       "\n",
       "                                         description  \n",
       "0  As her father nears the end of his life, filmm...  \n",
       "1  After crossing paths at a party, a Cape Town t...  \n",
       "2  To protect his family from a powerful drug lor...  \n",
       "3  Feuds, flirtations and toilet talk go down amo...  \n",
       "4  In a city of coaching centers known to train I...  "
      ]
     },
     "execution_count": 214,
     "metadata": {},
     "output_type": "execute_result"
    }
   ],
   "source": [
    "#Carregando o dataframe netflix\n",
    "df_netflix = pd.read_csv('netflix_titles.csv', sep = ',',encoding='utf-8') \n",
    "df_netflix.head ()"
   ]
  },
  {
   "cell_type": "code",
   "execution_count": 215,
   "metadata": {},
   "outputs": [
    {
     "data": {
      "text/plain": [
       "show_id         8807\n",
       "type            8807\n",
       "title           8807\n",
       "director        6173\n",
       "cast            7982\n",
       "country         7976\n",
       "date_added      8797\n",
       "release_year    8807\n",
       "rating          8803\n",
       "duration        8804\n",
       "listed_in       8807\n",
       "description     8807\n",
       "dtype: int64"
      ]
     },
     "execution_count": 215,
     "metadata": {},
     "output_type": "execute_result"
    }
   ],
   "source": [
    "#Verificando a quantidade de registros\n",
    "df_netflix.count()"
   ]
  },
  {
   "cell_type": "code",
   "execution_count": 216,
   "metadata": {},
   "outputs": [
    {
     "data": {
      "text/plain": [
       "8807"
      ]
     },
     "execution_count": 216,
     "metadata": {},
     "output_type": "execute_result"
    }
   ],
   "source": [
    "#Verificando se os titulos são únicos e distintos\n",
    "df_netflix['title'].nunique()"
   ]
  },
  {
   "cell_type": "code",
   "execution_count": 217,
   "metadata": {},
   "outputs": [
    {
     "data": {
      "text/plain": [
       "show_id            0\n",
       "type               0\n",
       "title              0\n",
       "director        2634\n",
       "cast             825\n",
       "country          831\n",
       "date_added        10\n",
       "release_year       0\n",
       "rating             4\n",
       "duration           3\n",
       "listed_in          0\n",
       "description        0\n",
       "dtype: int64"
      ]
     },
     "execution_count": 217,
     "metadata": {},
     "output_type": "execute_result"
    }
   ],
   "source": [
    "#Verificando os valores nulos\n",
    "df_netflix.isnull().sum()"
   ]
  },
  {
   "cell_type": "code",
   "execution_count": 218,
   "metadata": {},
   "outputs": [
    {
     "data": {
      "text/html": [
       "<div>\n",
       "<style scoped>\n",
       "    .dataframe tbody tr th:only-of-type {\n",
       "        vertical-align: middle;\n",
       "    }\n",
       "\n",
       "    .dataframe tbody tr th {\n",
       "        vertical-align: top;\n",
       "    }\n",
       "\n",
       "    .dataframe thead th {\n",
       "        text-align: right;\n",
       "    }\n",
       "</style>\n",
       "<table border=\"1\" class=\"dataframe\">\n",
       "  <thead>\n",
       "    <tr style=\"text-align: right;\">\n",
       "      <th></th>\n",
       "      <th>show_id</th>\n",
       "      <th>type</th>\n",
       "      <th>title</th>\n",
       "      <th>director</th>\n",
       "      <th>cast</th>\n",
       "      <th>country</th>\n",
       "      <th>date_added</th>\n",
       "      <th>release_year</th>\n",
       "      <th>rating</th>\n",
       "      <th>duration</th>\n",
       "      <th>listed_in</th>\n",
       "      <th>description</th>\n",
       "    </tr>\n",
       "  </thead>\n",
       "  <tbody>\n",
       "    <tr>\n",
       "      <th>0</th>\n",
       "      <td>s1</td>\n",
       "      <td>Movie</td>\n",
       "      <td>The Grand Seduction</td>\n",
       "      <td>Don McKellar</td>\n",
       "      <td>Brendan Gleeson, Taylor Kitsch, Gordon Pinsent</td>\n",
       "      <td>Canada</td>\n",
       "      <td>March 30, 2021</td>\n",
       "      <td>2014</td>\n",
       "      <td>NaN</td>\n",
       "      <td>113 min</td>\n",
       "      <td>Comedy, Drama</td>\n",
       "      <td>A small fishing village must procure a local d...</td>\n",
       "    </tr>\n",
       "    <tr>\n",
       "      <th>1</th>\n",
       "      <td>s2</td>\n",
       "      <td>Movie</td>\n",
       "      <td>Take Care Good Night</td>\n",
       "      <td>Girish Joshi</td>\n",
       "      <td>Mahesh Manjrekar, Abhay Mahajan, Sachin Khedekar</td>\n",
       "      <td>India</td>\n",
       "      <td>March 30, 2021</td>\n",
       "      <td>2018</td>\n",
       "      <td>13+</td>\n",
       "      <td>110 min</td>\n",
       "      <td>Drama, International</td>\n",
       "      <td>A Metro Family decides to fight a Cyber Crimin...</td>\n",
       "    </tr>\n",
       "    <tr>\n",
       "      <th>2</th>\n",
       "      <td>s3</td>\n",
       "      <td>Movie</td>\n",
       "      <td>Secrets of Deception</td>\n",
       "      <td>Josh Webber</td>\n",
       "      <td>Tom Sizemore, Lorenzo Lamas, Robert LaSardo, R...</td>\n",
       "      <td>United States</td>\n",
       "      <td>March 30, 2021</td>\n",
       "      <td>2017</td>\n",
       "      <td>NaN</td>\n",
       "      <td>74 min</td>\n",
       "      <td>Action, Drama, Suspense</td>\n",
       "      <td>After a man discovers his wife is cheating on ...</td>\n",
       "    </tr>\n",
       "    <tr>\n",
       "      <th>3</th>\n",
       "      <td>s4</td>\n",
       "      <td>Movie</td>\n",
       "      <td>Pink: Staying True</td>\n",
       "      <td>Sonia Anderson</td>\n",
       "      <td>Interviews with: Pink, Adele, Beyoncé, Britney...</td>\n",
       "      <td>United States</td>\n",
       "      <td>March 30, 2021</td>\n",
       "      <td>2014</td>\n",
       "      <td>NaN</td>\n",
       "      <td>69 min</td>\n",
       "      <td>Documentary</td>\n",
       "      <td>Pink breaks the mold once again, bringing her ...</td>\n",
       "    </tr>\n",
       "    <tr>\n",
       "      <th>4</th>\n",
       "      <td>s5</td>\n",
       "      <td>Movie</td>\n",
       "      <td>Monster Maker</td>\n",
       "      <td>Giles Foster</td>\n",
       "      <td>Harry Dean Stanton, Kieran O'Brien, George Cos...</td>\n",
       "      <td>United Kingdom</td>\n",
       "      <td>March 30, 2021</td>\n",
       "      <td>1989</td>\n",
       "      <td>NaN</td>\n",
       "      <td>45 min</td>\n",
       "      <td>Drama, Fantasy</td>\n",
       "      <td>Teenage Matt Banting wants to work with a famo...</td>\n",
       "    </tr>\n",
       "  </tbody>\n",
       "</table>\n",
       "</div>"
      ],
      "text/plain": [
       "  show_id   type                 title        director  \\\n",
       "0      s1  Movie   The Grand Seduction    Don McKellar   \n",
       "1      s2  Movie  Take Care Good Night    Girish Joshi   \n",
       "2      s3  Movie  Secrets of Deception     Josh Webber   \n",
       "3      s4  Movie    Pink: Staying True  Sonia Anderson   \n",
       "4      s5  Movie         Monster Maker    Giles Foster   \n",
       "\n",
       "                                                cast         country  \\\n",
       "0     Brendan Gleeson, Taylor Kitsch, Gordon Pinsent          Canada   \n",
       "1   Mahesh Manjrekar, Abhay Mahajan, Sachin Khedekar           India   \n",
       "2  Tom Sizemore, Lorenzo Lamas, Robert LaSardo, R...   United States   \n",
       "3  Interviews with: Pink, Adele, Beyoncé, Britney...   United States   \n",
       "4  Harry Dean Stanton, Kieran O'Brien, George Cos...  United Kingdom   \n",
       "\n",
       "       date_added  release_year rating duration                listed_in  \\\n",
       "0  March 30, 2021          2014    NaN  113 min            Comedy, Drama   \n",
       "1  March 30, 2021          2018    13+  110 min     Drama, International   \n",
       "2  March 30, 2021          2017    NaN   74 min  Action, Drama, Suspense   \n",
       "3  March 30, 2021          2014    NaN   69 min              Documentary   \n",
       "4  March 30, 2021          1989    NaN   45 min           Drama, Fantasy   \n",
       "\n",
       "                                         description  \n",
       "0  A small fishing village must procure a local d...  \n",
       "1  A Metro Family decides to fight a Cyber Crimin...  \n",
       "2  After a man discovers his wife is cheating on ...  \n",
       "3  Pink breaks the mold once again, bringing her ...  \n",
       "4  Teenage Matt Banting wants to work with a famo...  "
      ]
     },
     "execution_count": 218,
     "metadata": {},
     "output_type": "execute_result"
    }
   ],
   "source": [
    "#Carregando o dataframe da amazon prime\n",
    "df_amazon_prime = pd.read_csv('amazon_prime_titles.csv', sep = ',',encoding='utf-8') \n",
    "df_amazon_prime.head ()"
   ]
  },
  {
   "cell_type": "code",
   "execution_count": 219,
   "metadata": {},
   "outputs": [
    {
     "data": {
      "text/plain": [
       "show_id         9668\n",
       "type            9668\n",
       "title           9668\n",
       "director        7586\n",
       "cast            8435\n",
       "country          672\n",
       "date_added       155\n",
       "release_year    9668\n",
       "rating          9331\n",
       "duration        9668\n",
       "listed_in       9668\n",
       "description     9668\n",
       "dtype: int64"
      ]
     },
     "execution_count": 219,
     "metadata": {},
     "output_type": "execute_result"
    }
   ],
   "source": [
    "#Verificando a quantidade de registros\n",
    "df_amazon_prime.count()"
   ]
  },
  {
   "cell_type": "code",
   "execution_count": 220,
   "metadata": {},
   "outputs": [
    {
     "data": {
      "text/plain": [
       "9668"
      ]
     },
     "execution_count": 220,
     "metadata": {},
     "output_type": "execute_result"
    }
   ],
   "source": [
    "#Verificando se os titulos são únicos e distintos\n",
    "df_amazon_prime['title'].nunique()"
   ]
  },
  {
   "cell_type": "code",
   "execution_count": 221,
   "metadata": {},
   "outputs": [
    {
     "data": {
      "text/plain": [
       "show_id            0\n",
       "type               0\n",
       "title              0\n",
       "director        2082\n",
       "cast            1233\n",
       "country         8996\n",
       "date_added      9513\n",
       "release_year       0\n",
       "rating           337\n",
       "duration           0\n",
       "listed_in          0\n",
       "description        0\n",
       "dtype: int64"
      ]
     },
     "execution_count": 221,
     "metadata": {},
     "output_type": "execute_result"
    }
   ],
   "source": [
    "#Verificando os valores nulos\n",
    "df_amazon_prime.isnull().sum()"
   ]
  },
  {
   "cell_type": "code",
   "execution_count": 222,
   "metadata": {},
   "outputs": [],
   "source": [
    "#Fixando em uma nova coluna a plataforma respectiva de cada dataset\n",
    "df_netflix['plataforma'] ='netflix'\n",
    "df_amazon_prime['plataforma'] ='amazon_prime'"
   ]
  },
  {
   "cell_type": "markdown",
   "metadata": {},
   "source": [
    "#  Mesclar os datasets\n",
    "Para montar o nosso dataset único, vamos utilizar o outer join, pois assim conseguimos pegar não só apenas os filmes comuns, mas também todos os titulos das duas base de dados.\n",
    "Utilizando como chave as colunas title e type, pois os títulos são únicos em cada type\n"
   ]
  },
  {
   "cell_type": "code",
   "execution_count": 223,
   "metadata": {},
   "outputs": [],
   "source": [
    "#Mesclar os dados\n",
    "query = pd.merge(df_netflix,\n",
    "                 df_amazon_prime,\n",
    "                 on=['title','type'],\n",
    "                 how='outer')"
   ]
  },
  {
   "cell_type": "code",
   "execution_count": 224,
   "metadata": {},
   "outputs": [
    {
     "data": {
      "text/html": [
       "<div>\n",
       "<style scoped>\n",
       "    .dataframe tbody tr th:only-of-type {\n",
       "        vertical-align: middle;\n",
       "    }\n",
       "\n",
       "    .dataframe tbody tr th {\n",
       "        vertical-align: top;\n",
       "    }\n",
       "\n",
       "    .dataframe thead th {\n",
       "        text-align: right;\n",
       "    }\n",
       "</style>\n",
       "<table border=\"1\" class=\"dataframe\">\n",
       "  <thead>\n",
       "    <tr style=\"text-align: right;\">\n",
       "      <th></th>\n",
       "      <th>show_id_x</th>\n",
       "      <th>type</th>\n",
       "      <th>title</th>\n",
       "      <th>director_x</th>\n",
       "      <th>cast_x</th>\n",
       "      <th>country_x</th>\n",
       "      <th>date_added_x</th>\n",
       "      <th>release_year_x</th>\n",
       "      <th>rating_x</th>\n",
       "      <th>duration_x</th>\n",
       "      <th>...</th>\n",
       "      <th>director_y</th>\n",
       "      <th>cast_y</th>\n",
       "      <th>country_y</th>\n",
       "      <th>date_added_y</th>\n",
       "      <th>release_year_y</th>\n",
       "      <th>rating_y</th>\n",
       "      <th>duration_y</th>\n",
       "      <th>listed_in_y</th>\n",
       "      <th>description_y</th>\n",
       "      <th>plataforma_y</th>\n",
       "    </tr>\n",
       "  </thead>\n",
       "  <tbody>\n",
       "    <tr>\n",
       "      <th>0</th>\n",
       "      <td>s1</td>\n",
       "      <td>Movie</td>\n",
       "      <td>Dick Johnson Is Dead</td>\n",
       "      <td>Kirsten Johnson</td>\n",
       "      <td>NaN</td>\n",
       "      <td>United States</td>\n",
       "      <td>September 25, 2021</td>\n",
       "      <td>2020.0</td>\n",
       "      <td>PG-13</td>\n",
       "      <td>90 min</td>\n",
       "      <td>...</td>\n",
       "      <td>NaN</td>\n",
       "      <td>NaN</td>\n",
       "      <td>NaN</td>\n",
       "      <td>NaN</td>\n",
       "      <td>NaN</td>\n",
       "      <td>NaN</td>\n",
       "      <td>NaN</td>\n",
       "      <td>NaN</td>\n",
       "      <td>NaN</td>\n",
       "      <td>NaN</td>\n",
       "    </tr>\n",
       "    <tr>\n",
       "      <th>1</th>\n",
       "      <td>s2</td>\n",
       "      <td>TV Show</td>\n",
       "      <td>Blood &amp; Water</td>\n",
       "      <td>NaN</td>\n",
       "      <td>Ama Qamata, Khosi Ngema, Gail Mabalane, Thaban...</td>\n",
       "      <td>South Africa</td>\n",
       "      <td>September 24, 2021</td>\n",
       "      <td>2021.0</td>\n",
       "      <td>TV-MA</td>\n",
       "      <td>2 Seasons</td>\n",
       "      <td>...</td>\n",
       "      <td>NaN</td>\n",
       "      <td>NaN</td>\n",
       "      <td>NaN</td>\n",
       "      <td>NaN</td>\n",
       "      <td>NaN</td>\n",
       "      <td>NaN</td>\n",
       "      <td>NaN</td>\n",
       "      <td>NaN</td>\n",
       "      <td>NaN</td>\n",
       "      <td>NaN</td>\n",
       "    </tr>\n",
       "    <tr>\n",
       "      <th>2</th>\n",
       "      <td>s3</td>\n",
       "      <td>TV Show</td>\n",
       "      <td>Ganglands</td>\n",
       "      <td>Julien Leclercq</td>\n",
       "      <td>Sami Bouajila, Tracy Gotoas, Samuel Jouy, Nabi...</td>\n",
       "      <td>NaN</td>\n",
       "      <td>September 24, 2021</td>\n",
       "      <td>2021.0</td>\n",
       "      <td>TV-MA</td>\n",
       "      <td>1 Season</td>\n",
       "      <td>...</td>\n",
       "      <td>NaN</td>\n",
       "      <td>NaN</td>\n",
       "      <td>NaN</td>\n",
       "      <td>NaN</td>\n",
       "      <td>NaN</td>\n",
       "      <td>NaN</td>\n",
       "      <td>NaN</td>\n",
       "      <td>NaN</td>\n",
       "      <td>NaN</td>\n",
       "      <td>NaN</td>\n",
       "    </tr>\n",
       "    <tr>\n",
       "      <th>3</th>\n",
       "      <td>s4</td>\n",
       "      <td>TV Show</td>\n",
       "      <td>Jailbirds New Orleans</td>\n",
       "      <td>NaN</td>\n",
       "      <td>NaN</td>\n",
       "      <td>NaN</td>\n",
       "      <td>September 24, 2021</td>\n",
       "      <td>2021.0</td>\n",
       "      <td>TV-MA</td>\n",
       "      <td>1 Season</td>\n",
       "      <td>...</td>\n",
       "      <td>NaN</td>\n",
       "      <td>NaN</td>\n",
       "      <td>NaN</td>\n",
       "      <td>NaN</td>\n",
       "      <td>NaN</td>\n",
       "      <td>NaN</td>\n",
       "      <td>NaN</td>\n",
       "      <td>NaN</td>\n",
       "      <td>NaN</td>\n",
       "      <td>NaN</td>\n",
       "    </tr>\n",
       "    <tr>\n",
       "      <th>4</th>\n",
       "      <td>s5</td>\n",
       "      <td>TV Show</td>\n",
       "      <td>Kota Factory</td>\n",
       "      <td>NaN</td>\n",
       "      <td>Mayur More, Jitendra Kumar, Ranjan Raj, Alam K...</td>\n",
       "      <td>India</td>\n",
       "      <td>September 24, 2021</td>\n",
       "      <td>2021.0</td>\n",
       "      <td>TV-MA</td>\n",
       "      <td>2 Seasons</td>\n",
       "      <td>...</td>\n",
       "      <td>NaN</td>\n",
       "      <td>NaN</td>\n",
       "      <td>NaN</td>\n",
       "      <td>NaN</td>\n",
       "      <td>NaN</td>\n",
       "      <td>NaN</td>\n",
       "      <td>NaN</td>\n",
       "      <td>NaN</td>\n",
       "      <td>NaN</td>\n",
       "      <td>NaN</td>\n",
       "    </tr>\n",
       "  </tbody>\n",
       "</table>\n",
       "<p>5 rows × 24 columns</p>\n",
       "</div>"
      ],
      "text/plain": [
       "  show_id_x     type                  title       director_x  \\\n",
       "0        s1    Movie   Dick Johnson Is Dead  Kirsten Johnson   \n",
       "1        s2  TV Show          Blood & Water              NaN   \n",
       "2        s3  TV Show              Ganglands  Julien Leclercq   \n",
       "3        s4  TV Show  Jailbirds New Orleans              NaN   \n",
       "4        s5  TV Show           Kota Factory              NaN   \n",
       "\n",
       "                                              cast_x      country_x  \\\n",
       "0                                                NaN  United States   \n",
       "1  Ama Qamata, Khosi Ngema, Gail Mabalane, Thaban...   South Africa   \n",
       "2  Sami Bouajila, Tracy Gotoas, Samuel Jouy, Nabi...            NaN   \n",
       "3                                                NaN            NaN   \n",
       "4  Mayur More, Jitendra Kumar, Ranjan Raj, Alam K...          India   \n",
       "\n",
       "         date_added_x  release_year_x rating_x duration_x  ... director_y  \\\n",
       "0  September 25, 2021          2020.0    PG-13     90 min  ...        NaN   \n",
       "1  September 24, 2021          2021.0    TV-MA  2 Seasons  ...        NaN   \n",
       "2  September 24, 2021          2021.0    TV-MA   1 Season  ...        NaN   \n",
       "3  September 24, 2021          2021.0    TV-MA   1 Season  ...        NaN   \n",
       "4  September 24, 2021          2021.0    TV-MA  2 Seasons  ...        NaN   \n",
       "\n",
       "  cast_y country_y date_added_y release_year_y rating_y duration_y  \\\n",
       "0    NaN       NaN          NaN            NaN      NaN        NaN   \n",
       "1    NaN       NaN          NaN            NaN      NaN        NaN   \n",
       "2    NaN       NaN          NaN            NaN      NaN        NaN   \n",
       "3    NaN       NaN          NaN            NaN      NaN        NaN   \n",
       "4    NaN       NaN          NaN            NaN      NaN        NaN   \n",
       "\n",
       "  listed_in_y  description_y plataforma_y  \n",
       "0         NaN            NaN          NaN  \n",
       "1         NaN            NaN          NaN  \n",
       "2         NaN            NaN          NaN  \n",
       "3         NaN            NaN          NaN  \n",
       "4         NaN            NaN          NaN  \n",
       "\n",
       "[5 rows x 24 columns]"
      ]
     },
     "execution_count": 224,
     "metadata": {},
     "output_type": "execute_result"
    }
   ],
   "source": [
    "query.head()"
   ]
  },
  {
   "cell_type": "code",
   "execution_count": 225,
   "metadata": {},
   "outputs": [
    {
     "data": {
      "text/plain": [
       "show_id_x          8807\n",
       "type              18145\n",
       "title             18145\n",
       "director_x         6173\n",
       "cast_x             7982\n",
       "country_x          7976\n",
       "date_added_x       8797\n",
       "release_year_x     8807\n",
       "rating_x           8803\n",
       "duration_x         8804\n",
       "listed_in_x        8807\n",
       "description_x      8807\n",
       "plataforma_x       8807\n",
       "show_id_y          9668\n",
       "director_y         7586\n",
       "cast_y             8435\n",
       "country_y           672\n",
       "date_added_y        155\n",
       "release_year_y     9668\n",
       "rating_y           9331\n",
       "duration_y         9668\n",
       "listed_in_y        9668\n",
       "description_y      9668\n",
       "plataforma_y       9668\n",
       "dtype: int64"
      ]
     },
     "execution_count": 225,
     "metadata": {},
     "output_type": "execute_result"
    }
   ],
   "source": [
    "query.count()"
   ]
  },
  {
   "cell_type": "code",
   "execution_count": 226,
   "metadata": {},
   "outputs": [
    {
     "data": {
      "text/plain": [
       "show_id_x          9338\n",
       "type                  0\n",
       "title                 0\n",
       "director_x        11972\n",
       "cast_x            10163\n",
       "country_x         10169\n",
       "date_added_x       9348\n",
       "release_year_x     9338\n",
       "rating_x           9342\n",
       "duration_x         9341\n",
       "listed_in_x        9338\n",
       "description_x      9338\n",
       "plataforma_x       9338\n",
       "show_id_y          8477\n",
       "director_y        10559\n",
       "cast_y             9710\n",
       "country_y         17473\n",
       "date_added_y      17990\n",
       "release_year_y     8477\n",
       "rating_y           8814\n",
       "duration_y         8477\n",
       "listed_in_y        8477\n",
       "description_y      8477\n",
       "plataforma_y       8477\n",
       "dtype: int64"
      ]
     },
     "execution_count": 226,
     "metadata": {},
     "output_type": "execute_result"
    }
   ],
   "source": [
    "query.isnull().sum()"
   ]
  },
  {
   "cell_type": "code",
   "execution_count": 227,
   "metadata": {},
   "outputs": [],
   "source": [
    "#Criando colunas que contemplem os campos do mesmo assunto\n",
    "query['cast'] = query['cast_x']\n",
    "query['cast'].fillna(query['cast_y'], inplace=True)\n",
    "query['listed_in'] = query['listed_in_x']\n",
    "query['listed_in'].fillna(query['listed_in_y'], inplace=True)\n",
    "query['plataforma'] = query['plataforma_x']\n",
    "query['plataforma'].fillna(query['plataforma_y'], inplace=True)\n",
    "query['country'] = query['country_x']\n",
    "query['country'].fillna(query['country_y'], inplace=True)"
   ]
  },
  {
   "cell_type": "code",
   "execution_count": 228,
   "metadata": {},
   "outputs": [
    {
     "data": {
      "text/plain": [
       "show_id_x          9338\n",
       "type                  0\n",
       "title                 0\n",
       "director_x        11972\n",
       "cast_x            10163\n",
       "country_x         10169\n",
       "date_added_x       9348\n",
       "release_year_x     9338\n",
       "rating_x           9342\n",
       "duration_x         9341\n",
       "listed_in_x        9338\n",
       "description_x      9338\n",
       "plataforma_x       9338\n",
       "show_id_y          8477\n",
       "director_y        10559\n",
       "cast_y             9710\n",
       "country_y         17473\n",
       "date_added_y      17990\n",
       "release_year_y     8477\n",
       "rating_y           8814\n",
       "duration_y         8477\n",
       "listed_in_y        8477\n",
       "description_y      8477\n",
       "plataforma_y       8477\n",
       "cast               2032\n",
       "listed_in             0\n",
       "plataforma            0\n",
       "country            9529\n",
       "dtype: int64"
      ]
     },
     "execution_count": 228,
     "metadata": {},
     "output_type": "execute_result"
    }
   ],
   "source": [
    "query.isnull().sum()"
   ]
  },
  {
   "cell_type": "markdown",
   "metadata": {},
   "source": [
    "# Top 10 atores/atrizes considerando todos os dados"
   ]
  },
  {
   "cell_type": "code",
   "execution_count": 229,
   "metadata": {},
   "outputs": [
    {
     "data": {
      "text/plain": [
       "Anupam Kher         57\n",
       "Maggie Binkley      56\n",
       "Amitabh Bachchan    44\n",
       "Nassar              43\n",
       "Shah Rukh Khan      40\n",
       "Akshay Kumar        40\n",
       "Paresh Rawal        38\n",
       "Naseeruddin Shah    38\n",
       "Danny Trejo         36\n",
       "1                   35\n",
       "dtype: int64"
      ]
     },
     "execution_count": 229,
     "metadata": {},
     "output_type": "execute_result"
    }
   ],
   "source": [
    "q = query['cast'].dropna()\n",
    "q1 = q.str.split(\",\")\n",
    "Lista1 = list(chain(*q1))\n",
    "df = pd.DataFrame(Lista1)\n",
    "df.replace('^\\s+', '', regex=True, inplace=True) #front\n",
    "df.replace('\\s+$', '', regex=True, inplace=True) #end\n",
    "df.value_counts()[:10]"
   ]
  },
  {
   "cell_type": "code",
   "execution_count": 230,
   "metadata": {},
   "outputs": [
    {
     "data": {
      "text/plain": [
       "Text(0, 0.5, 'Atores')"
      ]
     },
     "execution_count": 230,
     "metadata": {},
     "output_type": "execute_result"
    },
    {
     "data": {
      "image/png": "[encoded data removed]",
      "text/plain": [
       "<Figure size 936x360 with 1 Axes>"
      ]
     },
     "metadata": {
      "needs_background": "light"
     },
     "output_type": "display_data"
    }
   ],
   "source": [
    "a,ax=plt.subplots(figsize=(18,5))\n",
    "categoria = df.value_counts().index[:10]\n",
    "qtd = df.value_counts()[:10]\n",
    "sns.barplot(x= qtd, y = categoria, data=df).figure.set_size_inches(13, 5)\n",
    "plt.title(\"Top 10 atores/atrizes mais aparecem na plataforma\", fontsize=10, fontweight='bold')\n",
    "plt.xlabel(\"Quantidade\")\n",
    "plt.ylabel(\"Atores\")"
   ]
  },
  {
   "cell_type": "markdown",
   "metadata": {},
   "source": [
    "Podemos ainda localizar quais são os filmes que esses atores participam"
   ]
  },
  {
   "cell_type": "code",
   "execution_count": 231,
   "metadata": {},
   "outputs": [
    {
     "data": {
      "text/plain": [
       "192                                    C Kkompany\n",
       "202                             Kyaa Kool Hai Hum\n",
       "204                      Kyaa Super Kool Hain Hum\n",
       "205             Kyo Kii... Main Jhuth Nahin Bolta\n",
       "702                       Silver Linings Playbook\n",
       "1861                                          Dil\n",
       "2270                              Chashme Baddoor\n",
       "2289                                   Special 26\n",
       "2339                         Prem Ratan Dhan Payo\n",
       "2340                                        Vivah\n",
       "2564                   One Day: Justice Delivered\n",
       "2724                         Gori Tere Pyaar Mein\n",
       "2725                                       Gumrah\n",
       "2734                           Kuch Kuch Hota Hai\n",
       "2957                          Hum Aapke Hain Koun\n",
       "3136                                         Game\n",
       "4466                                     Zokkomon\n",
       "4612                                  Wake Up Sid\n",
       "4679                                 Naam Shabana\n",
       "4694                        Toilet: Ek Prem Katha\n",
       "4732                              Rang De Basanti\n",
       "4860                                      Aiyaary\n",
       "4955                                       Paheli\n",
       "5009                                     Judwaa 2\n",
       "5118                         The Indian Detective\n",
       "5460                     Oh Darling Yeh Hai India\n",
       "5499                                      Chaahat\n",
       "6034                                 A Family Man\n",
       "6063                                  A Wednesday\n",
       "6449                              Chashme Buddoor\n",
       "6912                    Hamara Dil Aapke Paas Hai\n",
       "6936                         Haseena Maan Jaayegi\n",
       "7109     Jaan-E-Mann: Let's Fall in Love... Again\n",
       "7144                                       Judwaa\n",
       "7183                                    Khalnayak\n",
       "7186                             Khosla Ka Ghosla\n",
       "7247                                    Kya Kehna\n",
       "7380                                   Mahabharat\n",
       "8124                                   Super Nani\n",
       "8145                                       Tahaan\n",
       "8504                                The Shaukeens\n",
       "8769                       Y.M.I.: Yeh Mera India\n",
       "8772                        Yamla Pagla Deewana 2\n",
       "12287                                The Big Sick\n",
       "12421                           The Lion Of Judah\n",
       "13061                                        Beta\n",
       "13385                         Doli Saja Ke Rakhna\n",
       "13905                                       Lamhe\n",
       "13920                 Dilwale Dulhania Le Jayenge\n",
       "13921                            Dil Bole Hadippa\n",
       "13974                                 Taqdeerwala\n",
       "14025               Hum Aapke Dil Mein Rehte Hain\n",
       "14245                                     Nigahen\n",
       "14563                         Gori Tere Pyar Mein\n",
       "14615                         Jeevan Ek Sanghursh\n",
       "14638                             Insaaf Ki Awaaz\n",
       "15385                                 Little John\n",
       "Name: title, dtype: object"
      ]
     },
     "execution_count": 231,
     "metadata": {},
     "output_type": "execute_result"
    }
   ],
   "source": [
    "df = query[query['cast'].str.contains('Anupam Kher', na = False)]\n",
    "df['title']"
   ]
  },
  {
   "cell_type": "markdown",
   "metadata": {},
   "source": [
    "# Top 5 países produtores de conteúdos considerando todos os dados e comparando as duas plataformas;"
   ]
  },
  {
   "cell_type": "code",
   "execution_count": 232,
   "metadata": {},
   "outputs": [
    {
     "data": {
      "image/png": "[encoded data removed]",
      "text/plain": [
       "<Figure size 432x288 with 1 Axes>"
      ]
     },
     "metadata": {
      "needs_background": "light"
     },
     "output_type": "display_data"
    }
   ],
   "source": [
    "import matplotlib.pyplot as plt \n",
    "x = query['country'].value_counts().index[:5]\n",
    "y1 = query['country_x'].value_counts()[:5]\n",
    "y2 = query['country_y'].value_counts()[:5]\n",
    "plt.bar(x, y1, color='r') \n",
    "plt.bar(x, y2, bottom=y1, color='b')\n",
    "plt.legend([\"Netflix\", \"Amazon_prime\"]) #conferir\n",
    "plt.title('Top 5 países produtores de conteúdos ',fontsize=20)\n",
    "plt.show() "
   ]
  },
  {
   "cell_type": "markdown",
   "metadata": {},
   "source": [
    "# Mês no qual há mais adições de filmes na plataforma Netflix;"
   ]
  },
  {
   "cell_type": "code",
   "execution_count": 233,
   "metadata": {},
   "outputs": [],
   "source": [
    "#Localizando os dados que são da plataforma Netflix e do type Movie\n",
    "df = query.loc[query['plataforma'] == 'netflix']\n",
    "df = df.loc[df['type']== 'Movie']"
   ]
  },
  {
   "cell_type": "code",
   "execution_count": 234,
   "metadata": {},
   "outputs": [],
   "source": [
    "#Formatando o campo de data pelo mês\n",
    "data_col = pd.DatetimeIndex(df['date_added_x'])\n",
    "df['month'] = data_col.month"
   ]
  },
  {
   "cell_type": "code",
   "execution_count": 235,
   "metadata": {},
   "outputs": [],
   "source": [
    "#Formatando o mês, por extenso e colocando em ordem\n",
    "new_values = {1.:'January', 2.:'February', 3.:'March', 4.:'April', 5.:'May',\n",
    "              6.:'June', 7.:'July', 8.:'August', 9.:'September', 10.:'October',\n",
    "              11.:'November', 12.:'December'}\n",
    "df['month_1'] = df['month'].map(new_values)"
   ]
  },
  {
   "cell_type": "code",
   "execution_count": 236,
   "metadata": {},
   "outputs": [
    {
     "name": "stdout",
     "output_type": "stream",
     "text": [
      "July         565\n",
      "April        550\n",
      "December     547\n",
      "January      546\n",
      "October      545\n",
      "March        529\n",
      "September    519\n",
      "August       519\n",
      "November     498\n",
      "June         492\n",
      "May          439\n",
      "February     382\n",
      "Name: month_1, dtype: int64\n"
     ]
    },
    {
     "data": {
      "image/png": "[encoded data removed]",
      "text/plain": [
       "<Figure size 720x360 with 1 Axes>"
      ]
     },
     "metadata": {
      "needs_background": "light"
     },
     "output_type": "display_data"
    }
   ],
   "source": [
    "print(df['month_1'].value_counts())\n",
    "categorias = df['month'].value_counts().index\n",
    "qtd = df['month'].value_counts()\n",
    "fig = plt.figure(figsize=(10,5))\n",
    "sns.lineplot(x=categorias,y=qtd, color = 'green')\n",
    "plt.title('Mês no qual há mais adições de filmes na plataforma Netflix', fontsize=19);"
   ]
  },
  {
   "cell_type": "markdown",
   "metadata": {},
   "source": [
    "# Lista de todos os gêneros de filmes                                                                           "
   ]
  },
  {
   "cell_type": "markdown",
   "metadata": {},
   "source": [
    "# Quantidade de filmes listados como comédia."
   ]
  },
  {
   "cell_type": "code",
   "execution_count": 237,
   "metadata": {},
   "outputs": [],
   "source": [
    "#Localizando o type Movie\n",
    "df1 = query.loc[query['type'] == 'Movie']"
   ]
  },
  {
   "cell_type": "code",
   "execution_count": 238,
   "metadata": {
    "scrolled": true
   },
   "outputs": [
    {
     "data": {
      "text/plain": [
       "Generos                  \n",
       "Drama                        3089\n",
       "International Movies         2752\n",
       "Dramas                       2427\n",
       "Comedy                       1737\n",
       "Comedies                     1674\n",
       "Action                       1450\n",
       "Suspense                     1316\n",
       "Documentaries                 869\n",
       "Action & Adventure            859\n",
       "Horror                        816\n",
       "Independent Movies            756\n",
       "Special Interest              688\n",
       "Documentary                   665\n",
       "Kids                          663\n",
       "Children & Family Movies      641\n",
       "Romantic Movies               616\n",
       "Thrillers                     577\n",
       "Romance                       569\n",
       "Arts                          420\n",
       "Entertainment                 420\n",
       "and Culture                   420\n",
       "Science Fiction               390\n",
       "Music & Musicals              375\n",
       "Horror Movies                 357\n",
       "Stand-Up Comedy               343\n",
       "Animation                     276\n",
       "International                 270\n",
       "Sci-Fi & Fantasy              243\n",
       "Sports Movies                 219\n",
       "Western                       217\n",
       "Adventure                     215\n",
       "Music Videos and Concerts     147\n",
       "Arthouse                      136\n",
       "Classic Movies                116\n",
       "LGBTQ Movies                  102\n",
       "Sports                         99\n",
       "LGBTQ                          85\n",
       "Fitness                        72\n",
       "Anime Features                 71\n",
       "Cult Movies                    71\n",
       "Young Adult Audience           66\n",
       "Faith & Spirituality           65\n",
       "Movies                         57\n",
       "Faith and Spirituality         55\n",
       "Fantasy                        49\n",
       "Military and War               36\n",
       "Anime                          29\n",
       "Historical                     12\n",
       "Talk Show and Variety           1\n",
       "dtype: int64"
      ]
     },
     "execution_count": 238,
     "metadata": {},
     "output_type": "execute_result"
    }
   ],
   "source": [
    "#Listando os generos \n",
    "df = df1['listed_in'].dropna()\n",
    "q1 = df.str.split(\",\")\n",
    "from itertools import chain\n",
    "Lista1 = list(chain(*q1))\n",
    "df = pd.DataFrame(Lista1,columns=['Generos'])\n",
    "df.replace('^\\s+', '', regex=True, inplace=True) #front\n",
    "df.replace('\\s+$', '', regex=True, inplace=True) #end\n",
    "df.value_counts()[:50]"
   ]
  },
  {
   "cell_type": "markdown",
   "metadata": {},
   "source": [
    "No entanto, percebemos que temos referencias similares para o mesmo estilo de gênero. Sendo assim vamos classificar ainda mais\n",
    "nossos dados para verficar o gênero Comedia"
   ]
  },
  {
   "cell_type": "code",
   "execution_count": 239,
   "metadata": {},
   "outputs": [
    {
     "data": {
      "text/plain": [
       "Comedy             1737\n",
       "Comedies           1674\n",
       "Stand-Up Comedy     343\n",
       "Name: Comedia, dtype: int64"
      ]
     },
     "execution_count": 239,
     "metadata": {},
     "output_type": "execute_result"
    }
   ],
   "source": [
    "df['Comedia'] = df[df['Generos'].str.contains('Comed', na = False)]\n",
    "df['Comedia'].value_counts()"
   ]
  },
  {
   "cell_type": "markdown",
   "metadata": {},
   "source": [
    "Vamos utilizar o mesmo recurso para os demais gêneros comuns"
   ]
  },
  {
   "cell_type": "code",
   "execution_count": 240,
   "metadata": {},
   "outputs": [
    {
     "data": {
      "text/plain": [
       "Drama     3089\n",
       "Dramas    2427\n",
       "Name: Drama, dtype: int64"
      ]
     },
     "execution_count": 240,
     "metadata": {},
     "output_type": "execute_result"
    }
   ],
   "source": [
    "df['Drama'] = ''\n",
    "df['Drama'] = df[df['Generos'].str.contains('Drama', na = False)]\n",
    "df['Drama'].value_counts()"
   ]
  },
  {
   "cell_type": "code",
   "execution_count": 241,
   "metadata": {},
   "outputs": [
    {
     "data": {
      "text/plain": [
       "Horror           816\n",
       "Horror Movies    357\n",
       "Name: Horror, dtype: int64"
      ]
     },
     "execution_count": 241,
     "metadata": {},
     "output_type": "execute_result"
    }
   ],
   "source": [
    "df['Horror'] = ''\n",
    "df['Horror'] = df[df['Generos'].str.contains('Horror', na = False)]\n",
    "df['Horror'].value_counts()"
   ]
  },
  {
   "cell_type": "code",
   "execution_count": 242,
   "metadata": {},
   "outputs": [
    {
     "data": {
      "text/plain": [
       "Kids    663\n",
       "Name: Kids, dtype: int64"
      ]
     },
     "execution_count": 242,
     "metadata": {},
     "output_type": "execute_result"
    }
   ],
   "source": [
    "df['Kids'] = ''\n",
    "df['Kids'] = df[df['Generos'].str.contains('Kids','Children', na = False)]\n",
    "df['Kids'].value_counts()"
   ]
  },
  {
   "cell_type": "code",
   "execution_count": 243,
   "metadata": {},
   "outputs": [
    {
     "data": {
      "text/plain": [
       "Documentary    665\n",
       "Name: Documentary, dtype: int64"
      ]
     },
     "execution_count": 243,
     "metadata": {},
     "output_type": "execute_result"
    }
   ],
   "source": [
    "df['Documentary'] = ''\n",
    "df['Documentary'] = df[df['Generos'].str.contains('Documentary', na = False)]\n",
    "df['Documentary'].value_counts()"
   ]
  },
  {
   "cell_type": "code",
   "execution_count": 244,
   "metadata": {},
   "outputs": [
    {
     "data": {
      "text/plain": [
       "Suspense    1316\n",
       "Name: Suspense, dtype: int64"
      ]
     },
     "execution_count": 244,
     "metadata": {},
     "output_type": "execute_result"
    }
   ],
   "source": [
    "df['Suspense'] = ''\n",
    "df['Suspense'] = df[df['Generos'].str.contains('Suspense', na = False)]\n",
    "df['Suspense'].value_counts()\n"
   ]
  },
  {
   "cell_type": "code",
   "execution_count": 245,
   "metadata": {},
   "outputs": [
    {
     "data": {
      "text/plain": [
       "Romantic Movies    616\n",
       "Romance            569\n",
       "Name: Romance, dtype: int64"
      ]
     },
     "execution_count": 245,
     "metadata": {},
     "output_type": "execute_result"
    }
   ],
   "source": [
    "df['Romance'] = ''\n",
    "df['Romance'] = df[df['Generos'].str.contains('Roman', na = False)]\n",
    "df['Romance'].value_counts()\n"
   ]
  },
  {
   "cell_type": "code",
   "execution_count": 246,
   "metadata": {},
   "outputs": [
    {
     "data": {
      "text/plain": [
       "Science Fiction     390\n",
       "Sci-Fi & Fantasy    243\n",
       "Name: Science_Fiction, dtype: int64"
      ]
     },
     "execution_count": 246,
     "metadata": {},
     "output_type": "execute_result"
    }
   ],
   "source": [
    "df['Science_Fiction'] = ''\n",
    "df['Science_Fiction'] = df[df['Generos'].str.contains('Sci', na = False)]\n",
    "df['Science_Fiction'].value_counts()"
   ]
  },
  {
   "cell_type": "code",
   "execution_count": 247,
   "metadata": {},
   "outputs": [
    {
     "data": {
      "text/plain": [
       "Action                1450\n",
       "Action & Adventure     859\n",
       "Name: Action, dtype: int64"
      ]
     },
     "execution_count": 247,
     "metadata": {},
     "output_type": "execute_result"
    }
   ],
   "source": [
    "df['Action'] = ''\n",
    "df['Action'] = df[df['Generos'].str.contains('Action', na = False)]\n",
    "df['Action'].value_counts()"
   ]
  },
  {
   "cell_type": "code",
   "execution_count": 248,
   "metadata": {},
   "outputs": [],
   "source": [
    "#Listando os registros de generos filtrados\n",
    "df1 = df['Comedia'].dropna()\n",
    "comedia = df1.tolist()\n",
    "df1 = df['Drama'].dropna()\n",
    "drama = df1.tolist()\n",
    "df1 = df['Horror'].dropna()\n",
    "horror = df1.tolist()\n",
    "df1 = df['Kids'].dropna()\n",
    "kids = df1.tolist()\n",
    "df1 = df['Documentary'].dropna()\n",
    "documentary = df1.tolist()\n",
    "df1 = df['Suspense'].dropna()\n",
    "suspense = df1.tolist()\n",
    "df1 = df['Romance'].dropna()\n",
    "romance = df1.tolist()\n",
    "df1 = df['Science_Fiction'].dropna()\n",
    "science_fiction = df1.tolist()\n",
    "df1 = df['Action'].dropna()\n",
    "action = df1.tolist()"
   ]
  },
  {
   "cell_type": "code",
   "execution_count": 249,
   "metadata": {},
   "outputs": [
    {
     "data": {
      "text/plain": [
       "Text(0.5, 0, 'Quantidade')"
      ]
     },
     "execution_count": 249,
     "metadata": {},
     "output_type": "execute_result"
    },
    {
     "data": {
      "image/png": "[encoded data removed]",
      "text/plain": [
       "<Figure size 936x360 with 1 Axes>"
      ]
     },
     "metadata": {
      "needs_background": "light"
     },
     "output_type": "display_data"
    }
   ],
   "source": [
    "a,ax=plt.subplots(figsize=(18,5))\n",
    "categoria = ['comedia','drama','horror','kids','documentary','suspense','romance','science_fiction','action']\n",
    "qtd = [len(comedia), len(drama), len(horror), len(kids),len(documentary),len(suspense),len(romance),len(science_fiction),len(action)]\n",
    "sns.barplot(x= qtd, y = categoria).figure.set_size_inches(13, 5)\n",
    "plt.title(\"Generos\", fontsize=10, fontweight='bold')\n",
    "plt.xlabel(\"Quantidade\")\n"
   ]
  },
  {
   "cell_type": "markdown",
   "metadata": {},
   "source": [
    "#  A frequência de \"TV Show\" de todos os dados e comparativamente em relação as duas plataformas"
   ]
  },
  {
   "cell_type": "code",
   "execution_count": 250,
   "metadata": {},
   "outputs": [
    {
     "name": "stdout",
     "output_type": "stream",
     "text": [
      "netflix         2676\n",
      "amazon_prime    1783\n",
      "Name: plataforma, dtype: int64\n"
     ]
    },
    {
     "data": {
      "image/png": "[encoded data removed]",
      "text/plain": [
       "<Figure size 720x360 with 1 Axes>"
      ]
     },
     "metadata": {
      "needs_background": "light"
     },
     "output_type": "display_data"
    }
   ],
   "source": [
    "df = query.loc[query['type'] == 'TV Show']\n",
    "categorias = df[u'plataforma'].value_counts().index\n",
    "qtd = df['plataforma'].value_counts() \n",
    "print(qtd)\n",
    "fig = plt.figure(figsize=(10,5))\n",
    "sns.barplot(x= categorias, y = qtd, data=df)\n",
    "plt.title('TV Show', fontsize=19);"
   ]
  },
  {
   "cell_type": "markdown",
   "metadata": {},
   "source": [
    "# A frequência de \"Movies\" de todos os dados e comparativamente em relação as duas plataformas"
   ]
  },
  {
   "cell_type": "code",
   "execution_count": 251,
   "metadata": {},
   "outputs": [
    {
     "name": "stdout",
     "output_type": "stream",
     "text": [
      "amazon_prime    7555\n",
      "netflix         6131\n",
      "Name: plataforma, dtype: int64\n"
     ]
    },
    {
     "data": {
      "image/png": "[encoded data removed]",
      "text/plain": [
       "<Figure size 720x360 with 1 Axes>"
      ]
     },
     "metadata": {
      "needs_background": "light"
     },
     "output_type": "display_data"
    }
   ],
   "source": [
    "df1 = query.loc[query['type'] == 'Movie']\n",
    "categorias = df1[u'plataforma'].value_counts().index\n",
    "qtd = df1['plataforma'].value_counts() \n",
    "print(qtd)\n",
    "fig = plt.figure(figsize=(10,5))\n",
    "sns.barplot(x= categorias, y = qtd, data=df1)\n",
    "plt.title('Movie', fontsize=19);"
   ]
  }
 ],
 "metadata": {
  "kernelspec": {
   "display_name": "Python 3",
   "language": "python",
   "name": "python3"
  },
  "language_info": {
   "codemirror_mode": {
    "name": "ipython",
    "version": 3
   },
   "file_extension": ".py",
   "mimetype": "text/x-python",
   "name": "python",
   "nbconvert_exporter": "python",
   "pygments_lexer": "ipython3",
   "version": "3.8.5"
  }
 },
 "nbformat": 4,
 "nbformat_minor": 4
}
